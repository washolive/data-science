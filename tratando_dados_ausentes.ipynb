{
 "cells": [
  {
   "cell_type": "markdown",
   "metadata": {},
   "source": [
    "# Tratando dados ausentes"
   ]
  },
  {
   "cell_type": "markdown",
   "metadata": {},
   "source": [
    "Normalmente é muito empolgante começar uma nova modelagem de machine learning **\\o/**\n",
    "\n",
    "Mas quando descobrimos que nosso principal dataset tem um monte de dados faltando, bate uma certa preocupação...  \n",
    "São os temidos **\"missing data\"** ou **\"missing values\"**."
   ]
  },
  {
   "cell_type": "markdown",
   "metadata": {},
   "source": [
    "<img src=\"images/dados_ausentes_learnison.jpg\" align=\"left\" width=\"200\">\n",
    "Nosso amigo Learnison está passando exatamente por isso:<br>\n",
    "─ O que farei com tantos buracos nos dados?\n",
    "<br><br>\n",
    "O primeiro impulso foi de simplesmente remover todas as linhas e colunas com dados ausentes.<br>\n",
    "Mas logo reconsiderou:<br>\n",
    "─ Isso parece radical. Ou simplista...  \n",
    "Talvez seja melhor preencher com algum valor default.\n",
    "<br><br>\n",
    "Uma aflição, entretanto, continuou o incomodando:<br>\n",
    "─ Uma decisão ruim poderá comprometer a qualidade do meu modelo..."
   ]
  },
  {
   "cell_type": "markdown",
   "metadata": {},
   "source": [
    "Então respirou fundo, meditou um pouco e decidiu abordar o problema com a mente *zen* agitação...  \n",
    "Vamos acompanhá-lo neste episódio."
   ]
  },
  {
   "cell_type": "markdown",
   "metadata": {},
   "source": [
    "## Será mesmo?\n",
    "Pra começar, é bom confirmar se o dataset foi baixado corretamente da origem.  \n",
    "Uma **simples verificação** pode evitar muitas horas de dor de cabeça infrutíferas.\n",
    "* Conferir se o arquivo não se corrompeu durante a transferência.\n",
    "* Se o arquivo não for grande, baixar novamente e comparar.\n",
    "* Se o dataset veio de um banco de dados, consultar diretamente o banco e verificar se os dados também estão ausentes lá."
   ]
  },
  {
   "cell_type": "markdown",
   "metadata": {},
   "source": [
    "### Sim :/\n",
    "Porém, existe a indesejada possibilidade de os dados estarem realmente ausentes.  \n",
    "Foi o que ocorreu neste caso."
   ]
  },
  {
   "cell_type": "markdown",
   "metadata": {},
   "source": [
    "> **OBS:** Como exemplo, usaremos o popular dataset do naufrágio do Titanic.\n",
    "> \n",
    "> No site do Kaggle, o dataset está dividido em arquivos separados (treino e teste), prontos para uso na machine learning. \n",
    "Mas podemos baixar o arquivo único disponível na URL: https://hbiostat.org/data/repo/titanic3.xls\n",
    "> \n",
    "> E para as descrições dos atributos, consultaremos o Kaggle: https://www.kaggle.com/c/titanic/data"
   ]
  },
  {
   "cell_type": "markdown",
   "metadata": {},
   "source": [
    "<img src=\"images/icons8-pesquisar-96.png\" width=\"50\">"
   ]
  },
  {
   "cell_type": "markdown",
   "metadata": {},
   "source": [
    "## Desvendando os dados"
   ]
  },
  {
   "cell_type": "code",
   "execution_count": 1,
   "metadata": {},
   "outputs": [],
   "source": [
    "import pandas as pd"
   ]
  },
  {
   "cell_type": "code",
   "execution_count": 122,
   "metadata": {},
   "outputs": [],
   "source": [
    "url = \"https://hbiostat.org/data/repo/titanic3.xls\"\n",
    "df = pd.read_excel(url)"
   ]
  },
  {
   "cell_type": "code",
   "execution_count": 123,
   "metadata": {},
   "outputs": [
    {
     "data": {
      "text/plain": [
       "(1309, 14)"
      ]
     },
     "execution_count": 123,
     "metadata": {},
     "output_type": "execute_result"
    }
   ],
   "source": [
    "df.shape"
   ]
  },
  {
   "cell_type": "markdown",
   "metadata": {},
   "source": [
    "### Prazer em conhecê-los!\n",
    "Novo dataset, novas surpresas! Agradáveis ou não...\n",
    "\n",
    "Depois de carregado em um dataframe Pandas, sabemos o seu tamanho com o **shape** .    \n",
    "1309 linhas e 14 colunas\n",
    "\n",
    "E para conhecer os atributos e data types, usamos o método **info()**."
   ]
  },
  {
   "cell_type": "code",
   "execution_count": 124,
   "metadata": {},
   "outputs": [
    {
     "name": "stdout",
     "output_type": "stream",
     "text": [
      "<class 'pandas.core.frame.DataFrame'>\n",
      "RangeIndex: 1309 entries, 0 to 1308\n",
      "Data columns (total 14 columns):\n",
      " #   Column     Non-Null Count  Dtype  \n",
      "---  ------     --------------  -----  \n",
      " 0   pclass     1309 non-null   int64  \n",
      " 1   survived   1309 non-null   int64  \n",
      " 2   name       1309 non-null   object \n",
      " 3   sex        1309 non-null   object \n",
      " 4   age        1046 non-null   float64\n",
      " 5   sibsp      1309 non-null   int64  \n",
      " 6   parch      1309 non-null   int64  \n",
      " 7   ticket     1309 non-null   object \n",
      " 8   fare       1308 non-null   float64\n",
      " 9   cabin      295 non-null    object \n",
      " 10  embarked   1307 non-null   object \n",
      " 11  boat       486 non-null    object \n",
      " 12  body       121 non-null    float64\n",
      " 13  home.dest  745 non-null    object \n",
      "dtypes: float64(3), int64(4), object(7)\n",
      "memory usage: 143.3+ KB\n"
     ]
    }
   ],
   "source": [
    "df.info()"
   ]
  },
  {
   "cell_type": "markdown",
   "metadata": {},
   "source": [
    "Além dos nomes e dtypes dos atributos, o info() também diz quantos valores não-nulos existem em cada coluna e, no final, também informa o uso de memória do dataframe.\n",
    "\n",
    "**Obs 1:** Para saber o uso completo de memória, usar **df.info(memory_usage=\"deep\")**.\n",
    "\n",
    "**Obs 2:** Usar o **df.describe()** para uma visão geral estatística dos valores **numéricos**."
   ]
  },
  {
   "cell_type": "markdown",
   "metadata": {},
   "source": [
    "### Ausentes, quem são vocês?\n",
    "Pelo info() sabemos que existem 7 atributos com lacunas nos dados.  \n",
    "Confirmando:"
   ]
  },
  {
   "cell_type": "code",
   "execution_count": 125,
   "metadata": {},
   "outputs": [
    {
     "name": "stdout",
     "output_type": "stream",
     "text": [
      "Quais: Index(['age', 'fare', 'cabin', 'embarked', 'boat', 'body', 'home.dest'], dtype='object')\n",
      "Quantos: 7\n"
     ]
    }
   ],
   "source": [
    "print(\"Quais:\", df.columns[df.isnull().any()])\n",
    "print(\"Quantos:\", df.isnull().any().sum())"
   ]
  },
  {
   "cell_type": "markdown",
   "metadata": {},
   "source": [
    "É importante entender exatamente a que se refere cada atributo.  \n",
    "Às vezes o nome não diz muita coisa sobre o conteúdo.  \n",
    "Por isso, consulta-se o dicionário de dados do dataset:\n",
    "* age - idade do passageiro em anos\n",
    "* fare - preço da passagem\n",
    "* cabin - número da cabine do passageiro\n",
    "* embarked - porto onde embarcou (C = Cherbourg, Q = Queenstown, S = Southampton)\n",
    "* boat - número do bote salva-vidas (caso tenha sobrevivido)\n",
    "* body - número de identificação do corpo (caso tenha morrido e recuperado)\n",
    "* home.dest - cidades origem/destino"
   ]
  },
  {
   "cell_type": "markdown",
   "metadata": {},
   "source": [
    "<img src=\"images/icons8-pyramid-toy-96.png\" width=\"60\">"
   ]
  },
  {
   "cell_type": "markdown",
   "metadata": {},
   "source": [
    "## Tratando os dados"
   ]
  },
  {
   "cell_type": "markdown",
   "metadata": {},
   "source": [
    "Conhecendo melhor os atributos com dados ausentes, pode-se remover aqueles que não serão úteis para a predição no modelo de machine learning. Os que chamam a atenção inicialmente são o \"**boat**\" e \"**body**\"."
   ]
  },
  {
   "cell_type": "markdown",
   "metadata": {},
   "source": [
    "Eles são chamados de **leaky features** (atributos com vazamento de informação). Ou seja, o número do bote ou o número do corpo predizem, indiretamente, que o passageiro sobreviveu ou morreu. Logo, não devem ser usados no modelo. Já existe a feature com esta informação determinada, o atributo \"survived\"."
   ]
  },
  {
   "cell_type": "markdown",
   "metadata": {
    "tags": []
   },
   "source": [
    "### Remover\n",
    "Relembrando os principais usos do método dropna() do Pandas:\n",
    "* df.dropna() - remove todas as linhas que possuem, ao menos, um dado ausente (NaN).\n",
    "* df.dropna(how='all') - remove todas as linhas em que **todos** conteúdos das colunas forem NaN.\n",
    "\n",
    "Na remoção de linhas, para considerar somente um subconjunto de colunas, usar **subset**:\n",
    "* df.dropna(subset=['col1', 'col2'...])\n",
    "\n",
    "Para remover colunas, especificar o axis (eixo) 1 (columns):\n",
    "* df.dropna(axis=1) - remove todas as colunas que possuem, ao menos, um dado ausente (NaN).\n",
    "* df.dropna(axis=1, how='all') - remove todas as colunas em que **todos** conteúdos das linhas forem NaN."
   ]
  },
  {
   "cell_type": "markdown",
   "metadata": {},
   "source": [
    "<img src=\"images/icons8-recortar-96.png\" width=\"50\">"
   ]
  },
  {
   "cell_type": "markdown",
   "metadata": {},
   "source": [
    "Existem duas maneiras de remover as colunas 'boat' e 'body'."
   ]
  },
  {
   "cell_type": "code",
   "execution_count": 128,
   "metadata": {},
   "outputs": [
    {
     "data": {
      "text/html": [
       "<div>\n",
       "<style scoped>\n",
       "    .dataframe tbody tr th:only-of-type {\n",
       "        vertical-align: middle;\n",
       "    }\n",
       "\n",
       "    .dataframe tbody tr th {\n",
       "        vertical-align: top;\n",
       "    }\n",
       "\n",
       "    .dataframe thead th {\n",
       "        text-align: right;\n",
       "    }\n",
       "</style>\n",
       "<table border=\"1\" class=\"dataframe\">\n",
       "  <thead>\n",
       "    <tr style=\"text-align: right;\">\n",
       "      <th></th>\n",
       "      <th>pclass</th>\n",
       "      <th>survived</th>\n",
       "      <th>name</th>\n",
       "      <th>sex</th>\n",
       "      <th>age</th>\n",
       "      <th>sibsp</th>\n",
       "      <th>parch</th>\n",
       "      <th>ticket</th>\n",
       "      <th>fare</th>\n",
       "      <th>cabin</th>\n",
       "      <th>embarked</th>\n",
       "      <th>home.dest</th>\n",
       "    </tr>\n",
       "  </thead>\n",
       "  <tbody>\n",
       "    <tr>\n",
       "      <th>0</th>\n",
       "      <td>1</td>\n",
       "      <td>1</td>\n",
       "      <td>Allen, Miss. Elisabeth Walton</td>\n",
       "      <td>female</td>\n",
       "      <td>29.0000</td>\n",
       "      <td>0</td>\n",
       "      <td>0</td>\n",
       "      <td>24160</td>\n",
       "      <td>211.3375</td>\n",
       "      <td>B5</td>\n",
       "      <td>S</td>\n",
       "      <td>St Louis, MO</td>\n",
       "    </tr>\n",
       "    <tr>\n",
       "      <th>1</th>\n",
       "      <td>1</td>\n",
       "      <td>1</td>\n",
       "      <td>Allison, Master. Hudson Trevor</td>\n",
       "      <td>male</td>\n",
       "      <td>0.9167</td>\n",
       "      <td>1</td>\n",
       "      <td>2</td>\n",
       "      <td>113781</td>\n",
       "      <td>151.5500</td>\n",
       "      <td>C22 C26</td>\n",
       "      <td>S</td>\n",
       "      <td>Montreal, PQ / Chesterville, ON</td>\n",
       "    </tr>\n",
       "    <tr>\n",
       "      <th>2</th>\n",
       "      <td>1</td>\n",
       "      <td>0</td>\n",
       "      <td>Allison, Miss. Helen Loraine</td>\n",
       "      <td>female</td>\n",
       "      <td>2.0000</td>\n",
       "      <td>1</td>\n",
       "      <td>2</td>\n",
       "      <td>113781</td>\n",
       "      <td>151.5500</td>\n",
       "      <td>C22 C26</td>\n",
       "      <td>S</td>\n",
       "      <td>Montreal, PQ / Chesterville, ON</td>\n",
       "    </tr>\n",
       "    <tr>\n",
       "      <th>3</th>\n",
       "      <td>1</td>\n",
       "      <td>0</td>\n",
       "      <td>Allison, Mr. Hudson Joshua Creighton</td>\n",
       "      <td>male</td>\n",
       "      <td>30.0000</td>\n",
       "      <td>1</td>\n",
       "      <td>2</td>\n",
       "      <td>113781</td>\n",
       "      <td>151.5500</td>\n",
       "      <td>C22 C26</td>\n",
       "      <td>S</td>\n",
       "      <td>Montreal, PQ / Chesterville, ON</td>\n",
       "    </tr>\n",
       "    <tr>\n",
       "      <th>4</th>\n",
       "      <td>1</td>\n",
       "      <td>0</td>\n",
       "      <td>Allison, Mrs. Hudson J C (Bessie Waldo Daniels)</td>\n",
       "      <td>female</td>\n",
       "      <td>25.0000</td>\n",
       "      <td>1</td>\n",
       "      <td>2</td>\n",
       "      <td>113781</td>\n",
       "      <td>151.5500</td>\n",
       "      <td>C22 C26</td>\n",
       "      <td>S</td>\n",
       "      <td>Montreal, PQ / Chesterville, ON</td>\n",
       "    </tr>\n",
       "    <tr>\n",
       "      <th>...</th>\n",
       "      <td>...</td>\n",
       "      <td>...</td>\n",
       "      <td>...</td>\n",
       "      <td>...</td>\n",
       "      <td>...</td>\n",
       "      <td>...</td>\n",
       "      <td>...</td>\n",
       "      <td>...</td>\n",
       "      <td>...</td>\n",
       "      <td>...</td>\n",
       "      <td>...</td>\n",
       "      <td>...</td>\n",
       "    </tr>\n",
       "    <tr>\n",
       "      <th>1304</th>\n",
       "      <td>3</td>\n",
       "      <td>0</td>\n",
       "      <td>Zabour, Miss. Hileni</td>\n",
       "      <td>female</td>\n",
       "      <td>14.5000</td>\n",
       "      <td>1</td>\n",
       "      <td>0</td>\n",
       "      <td>2665</td>\n",
       "      <td>14.4542</td>\n",
       "      <td>NaN</td>\n",
       "      <td>C</td>\n",
       "      <td>NaN</td>\n",
       "    </tr>\n",
       "    <tr>\n",
       "      <th>1305</th>\n",
       "      <td>3</td>\n",
       "      <td>0</td>\n",
       "      <td>Zabour, Miss. Thamine</td>\n",
       "      <td>female</td>\n",
       "      <td>NaN</td>\n",
       "      <td>1</td>\n",
       "      <td>0</td>\n",
       "      <td>2665</td>\n",
       "      <td>14.4542</td>\n",
       "      <td>NaN</td>\n",
       "      <td>C</td>\n",
       "      <td>NaN</td>\n",
       "    </tr>\n",
       "    <tr>\n",
       "      <th>1306</th>\n",
       "      <td>3</td>\n",
       "      <td>0</td>\n",
       "      <td>Zakarian, Mr. Mapriededer</td>\n",
       "      <td>male</td>\n",
       "      <td>26.5000</td>\n",
       "      <td>0</td>\n",
       "      <td>0</td>\n",
       "      <td>2656</td>\n",
       "      <td>7.2250</td>\n",
       "      <td>NaN</td>\n",
       "      <td>C</td>\n",
       "      <td>NaN</td>\n",
       "    </tr>\n",
       "    <tr>\n",
       "      <th>1307</th>\n",
       "      <td>3</td>\n",
       "      <td>0</td>\n",
       "      <td>Zakarian, Mr. Ortin</td>\n",
       "      <td>male</td>\n",
       "      <td>27.0000</td>\n",
       "      <td>0</td>\n",
       "      <td>0</td>\n",
       "      <td>2670</td>\n",
       "      <td>7.2250</td>\n",
       "      <td>NaN</td>\n",
       "      <td>C</td>\n",
       "      <td>NaN</td>\n",
       "    </tr>\n",
       "    <tr>\n",
       "      <th>1308</th>\n",
       "      <td>3</td>\n",
       "      <td>0</td>\n",
       "      <td>Zimmerman, Mr. Leo</td>\n",
       "      <td>male</td>\n",
       "      <td>29.0000</td>\n",
       "      <td>0</td>\n",
       "      <td>0</td>\n",
       "      <td>315082</td>\n",
       "      <td>7.8750</td>\n",
       "      <td>NaN</td>\n",
       "      <td>S</td>\n",
       "      <td>NaN</td>\n",
       "    </tr>\n",
       "  </tbody>\n",
       "</table>\n",
       "<p>1309 rows × 12 columns</p>\n",
       "</div>"
      ],
      "text/plain": [
       "      pclass  survived                                             name  \\\n",
       "0          1         1                    Allen, Miss. Elisabeth Walton   \n",
       "1          1         1                   Allison, Master. Hudson Trevor   \n",
       "2          1         0                     Allison, Miss. Helen Loraine   \n",
       "3          1         0             Allison, Mr. Hudson Joshua Creighton   \n",
       "4          1         0  Allison, Mrs. Hudson J C (Bessie Waldo Daniels)   \n",
       "...      ...       ...                                              ...   \n",
       "1304       3         0                             Zabour, Miss. Hileni   \n",
       "1305       3         0                            Zabour, Miss. Thamine   \n",
       "1306       3         0                        Zakarian, Mr. Mapriededer   \n",
       "1307       3         0                              Zakarian, Mr. Ortin   \n",
       "1308       3         0                               Zimmerman, Mr. Leo   \n",
       "\n",
       "         sex      age  sibsp  parch  ticket      fare    cabin embarked  \\\n",
       "0     female  29.0000      0      0   24160  211.3375       B5        S   \n",
       "1       male   0.9167      1      2  113781  151.5500  C22 C26        S   \n",
       "2     female   2.0000      1      2  113781  151.5500  C22 C26        S   \n",
       "3       male  30.0000      1      2  113781  151.5500  C22 C26        S   \n",
       "4     female  25.0000      1      2  113781  151.5500  C22 C26        S   \n",
       "...      ...      ...    ...    ...     ...       ...      ...      ...   \n",
       "1304  female  14.5000      1      0    2665   14.4542      NaN        C   \n",
       "1305  female      NaN      1      0    2665   14.4542      NaN        C   \n",
       "1306    male  26.5000      0      0    2656    7.2250      NaN        C   \n",
       "1307    male  27.0000      0      0    2670    7.2250      NaN        C   \n",
       "1308    male  29.0000      0      0  315082    7.8750      NaN        S   \n",
       "\n",
       "                            home.dest  \n",
       "0                        St Louis, MO  \n",
       "1     Montreal, PQ / Chesterville, ON  \n",
       "2     Montreal, PQ / Chesterville, ON  \n",
       "3     Montreal, PQ / Chesterville, ON  \n",
       "4     Montreal, PQ / Chesterville, ON  \n",
       "...                               ...  \n",
       "1304                              NaN  \n",
       "1305                              NaN  \n",
       "1306                              NaN  \n",
       "1307                              NaN  \n",
       "1308                              NaN  \n",
       "\n",
       "[1309 rows x 12 columns]"
      ]
     },
     "execution_count": 128,
     "metadata": {},
     "output_type": "execute_result"
    }
   ],
   "source": [
    "df.drop(['boat', 'body'], axis=1)    # Ou: df.drop(columns=['boat', 'body'])"
   ]
  },
  {
   "cell_type": "markdown",
   "metadata": {},
   "source": [
    "Colunas removidas?  \n",
    "Vamos conferir com o shape."
   ]
  },
  {
   "cell_type": "code",
   "execution_count": 8,
   "metadata": {},
   "outputs": [
    {
     "data": {
      "text/plain": [
       "(1309, 14)"
      ]
     },
     "execution_count": 8,
     "metadata": {},
     "output_type": "execute_result"
    }
   ],
   "source": [
    "df.shape"
   ]
  },
  {
   "cell_type": "markdown",
   "metadata": {},
   "source": [
    "<img src=\"images/icons8-grito-96.png\" width=\"70\">"
   ]
  },
  {
   "cell_type": "markdown",
   "metadata": {},
   "source": [
    "Parece que não funcionou... Continuam as 14 colunas iniciais do dataframe!\n",
    "\n",
    "É que alguns métodos do Pandas retornam uma cópia do dataframe, ou seja, não modificam o dataframe original.  \n",
    "Mas há duas maneiras simples de resolver isso."
   ]
  },
  {
   "cell_type": "code",
   "execution_count": 129,
   "metadata": {},
   "outputs": [
    {
     "data": {
      "text/plain": [
       "(1309, 12)"
      ]
     },
     "execution_count": 129,
     "metadata": {},
     "output_type": "execute_result"
    }
   ],
   "source": [
    "df = df.drop(['boat', 'body'], axis=1)\n",
    "df.shape\n",
    "\n",
    "# Ou: df.drop(['boat', 'body'], axis=1, inplace=True)"
   ]
  },
  {
   "cell_type": "markdown",
   "metadata": {},
   "source": [
    "Agora sim, removidas!\n",
    "\n",
    "Mas restam ainda 5 atributos com dados ausentes.\n",
    "* age - idade do passageiro em anos\n",
    "* fare - preço da passagem\n",
    "* cabin - número da cabine do passageiro\n",
    "* embarked - porto onde embarcou (C = Cherbourg, Q = Queenstown, S = Southampton)\n",
    "* home.dest - cidades origem/destino"
   ]
  },
  {
   "cell_type": "markdown",
   "metadata": {},
   "source": [
    "### Preencher"
   ]
  },
  {
   "cell_type": "markdown",
   "metadata": {},
   "source": [
    "<img src=\"images/icons8-chá-96.png\" width=\"60\">"
   ]
  },
  {
   "cell_type": "markdown",
   "metadata": {},
   "source": [
    "Para eles, queremos saber:\n",
    "\n",
    "* Qual a quantidade de dados ausentes de cada um?  \n",
    "* E quantos são em valor absoluto e em percentual?"
   ]
  },
  {
   "cell_type": "code",
   "execution_count": 10,
   "metadata": {},
   "outputs": [
    {
     "data": {
      "text/html": [
       "<div>\n",
       "<style scoped>\n",
       "    .dataframe tbody tr th:only-of-type {\n",
       "        vertical-align: middle;\n",
       "    }\n",
       "\n",
       "    .dataframe tbody tr th {\n",
       "        vertical-align: top;\n",
       "    }\n",
       "\n",
       "    .dataframe thead th {\n",
       "        text-align: right;\n",
       "    }\n",
       "</style>\n",
       "<table border=\"1\" class=\"dataframe\">\n",
       "  <thead>\n",
       "    <tr style=\"text-align: right;\">\n",
       "      <th></th>\n",
       "      <th>sum</th>\n",
       "      <th>mean</th>\n",
       "    </tr>\n",
       "  </thead>\n",
       "  <tbody>\n",
       "    <tr>\n",
       "      <th>age</th>\n",
       "      <td>263.0</td>\n",
       "      <td>0.200917</td>\n",
       "    </tr>\n",
       "    <tr>\n",
       "      <th>fare</th>\n",
       "      <td>1.0</td>\n",
       "      <td>0.000764</td>\n",
       "    </tr>\n",
       "    <tr>\n",
       "      <th>cabin</th>\n",
       "      <td>1014.0</td>\n",
       "      <td>0.774637</td>\n",
       "    </tr>\n",
       "    <tr>\n",
       "      <th>embarked</th>\n",
       "      <td>2.0</td>\n",
       "      <td>0.001528</td>\n",
       "    </tr>\n",
       "    <tr>\n",
       "      <th>home.dest</th>\n",
       "      <td>564.0</td>\n",
       "      <td>0.430863</td>\n",
       "    </tr>\n",
       "  </tbody>\n",
       "</table>\n",
       "</div>"
      ],
      "text/plain": [
       "              sum      mean\n",
       "age         263.0  0.200917\n",
       "fare          1.0  0.000764\n",
       "cabin      1014.0  0.774637\n",
       "embarked      2.0  0.001528\n",
       "home.dest   564.0  0.430863"
      ]
     },
     "execution_count": 10,
     "metadata": {},
     "output_type": "execute_result"
    }
   ],
   "source": [
    "df[['age', 'fare', 'cabin', 'embarked', 'home.dest']].isnull().agg(['sum', 'mean']).T"
   ]
  },
  {
   "cell_type": "markdown",
   "metadata": {},
   "source": [
    "Alguns são mais preocupantes...  \n",
    "\"**cabin**\" tem 77% de dados não informados e \"**home.dest**\" 43%.\n",
    "\n",
    "Já o percentual de \"**age**\" não é tão alto, mas são 20% dos passageiros sem informação de idade.  \n",
    "E é uma variável importante para o modelo.  \n",
    "Presume-se que um jovem teria mais chance de sobreviver do que um idoso ou uma criança.  "
   ]
  },
  {
   "cell_type": "markdown",
   "metadata": {},
   "source": [
    "#### Age\n",
    "Como estará a distribuição das idades em relação ao conjunto de dados completo?  \n",
    "Dá para ver num **histograma**."
   ]
  },
  {
   "cell_type": "code",
   "execution_count": 11,
   "metadata": {},
   "outputs": [],
   "source": [
    "import matplotlib.pyplot as plt\n",
    "%matplotlib inline"
   ]
  },
  {
   "cell_type": "code",
   "execution_count": 12,
   "metadata": {},
   "outputs": [
    {
     "data": {
      "image/png": "[encoded data removed]",
      "text/plain": [
       "<Figure size 432x288 with 1 Axes>"
      ]
     },
     "metadata": {
      "needs_background": "light"
     },
     "output_type": "display_data"
    }
   ],
   "source": [
    "df['age'].hist(bins=10)\n",
    "plt.show()"
   ]
  },
  {
   "cell_type": "markdown",
   "metadata": {},
   "source": [
    "Para visualizar o quanto as idades ausentes afetam o conjunto completo, é possível usar um artifício.  \n",
    "Substituímos os valores nulos por outro bem distante, por exemplo, -100. "
   ]
  },
  {
   "cell_type": "code",
   "execution_count": 130,
   "metadata": {},
   "outputs": [
    {
     "data": {
      "image/png": "[encoded data removed]",
      "text/plain": [
       "<Figure size 432x288 with 1 Axes>"
      ]
     },
     "metadata": {
      "needs_background": "light"
     },
     "output_type": "display_data"
    }
   ],
   "source": [
    "import numpy as np\n",
    "df['age'].replace(np.nan, -100).hist(bins=10)\n",
    "plt.show()"
   ]
  },
  {
   "cell_type": "markdown",
   "metadata": {},
   "source": [
    "**Hipóteses**:\n",
    "* Será que as idades não informadas referem-se a um determinado padrão de passageiros?  \n",
    "* Ou a um determinado padrão no dataset? Por exemplo, somente os últimos registros?  \n",
    "* Ou estão ausentes de forma aleatória?  \n",
    "* Será que houve displicência quando cadastraram as datas de nascimento dos passageiros?\n",
    "\n",
    "Existe um gráfico que ilustra bem a distribuição dos dados ausentes. Fica na bilioteca \"missingno\"."
   ]
  },
  {
   "cell_type": "code",
   "execution_count": 14,
   "metadata": {},
   "outputs": [],
   "source": [
    "import missingno as msno\n",
    "import warnings\n",
    "warnings.filterwarnings('ignore')"
   ]
  },
  {
   "cell_type": "code",
   "execution_count": 15,
   "metadata": {},
   "outputs": [
    {
     "data": {
      "image/png": "[encoded data removed]",
      "text/plain": [
       "<Figure size 576x432 with 1 Axes>"
      ]
     },
     "metadata": {
      "needs_background": "light"
     },
     "output_type": "display_data"
    }
   ],
   "source": [
    "fig, ax = plt.subplots(figsize=(8, 6))\n",
    "msno.matrix(df, color=(0.4, 0.4, 0.8), ax=ax)\n",
    "plt.show()"
   ]
  },
  {
   "cell_type": "markdown",
   "metadata": {},
   "source": [
    "<img src=\"images/icons8-sherlock-holmes-96.png\" width=\"60\">"
   ]
  },
  {
   "cell_type": "markdown",
   "metadata": {},
   "source": [
    "Percebe-se que as lacunas das idades são meio aleatórias.  \n",
    "Então podemos preenchê-las com algum valor que colabore com o machine learning.\n",
    "\n",
    "Mas qual?\n",
    "* 0 (zero) poderá distorcer a realidade... 20% de bebês a bordo?\n",
    "* média das idades dos passageiros? Parece razoável."
   ]
  },
  {
   "cell_type": "markdown",
   "metadata": {},
   "source": [
    "Preenche-se os valores nulos com o método **fillna()** do Pandas.  \n",
    "O valor preenchido pode ser fixo ou algo calculado.  \n",
    "Neste caso, será a média da coluna \"age\"."
   ]
  },
  {
   "cell_type": "code",
   "execution_count": 134,
   "metadata": {},
   "outputs": [
    {
     "data": {
      "text/plain": [
       "0"
      ]
     },
     "execution_count": 134,
     "metadata": {},
     "output_type": "execute_result"
    }
   ],
   "source": [
    "df['age'].fillna((df['age'].mean()), inplace=True)\n",
    "df['age'].isnull().sum()"
   ]
  },
  {
   "cell_type": "markdown",
   "metadata": {},
   "source": [
    "#### Fare\n",
    "O atributo \"fare\" (preço da passagem) só tem 1 ausente.  \n",
    "\n",
    "Parece indiferente preencher com o valor médio ou simplesmente remover a linha.  \n",
    "Não deve impactar o modelo.  "
   ]
  },
  {
   "cell_type": "markdown",
   "metadata": {},
   "source": [
    "Desta vez, ao invés do Pandas, usaremos a classe **SimpleImputer** da biblioteca **scikit-learn**."
   ]
  },
  {
   "cell_type": "code",
   "execution_count": 135,
   "metadata": {},
   "outputs": [],
   "source": [
    "from sklearn.impute import SimpleImputer"
   ]
  },
  {
   "cell_type": "code",
   "execution_count": 136,
   "metadata": {},
   "outputs": [
    {
     "data": {
      "text/plain": [
       "0"
      ]
     },
     "execution_count": 136,
     "metadata": {},
     "output_type": "execute_result"
    }
   ],
   "source": [
    "imp = SimpleImputer()\n",
    "df[['fare']] = imp.fit_transform(df[['fare']])    # Obs: usar dataframe e não series como parâmetro\n",
    "df['fare'].isnull().sum()"
   ]
  },
  {
   "cell_type": "markdown",
   "metadata": {},
   "source": [
    "> **Obs:** Por default, os valores nulos (np.nan) serão preenchidos com a média (strategy='mean'). Outras opções são:\n",
    "> * SimpleImputer(strategy='most_frequent')\n",
    "> * SimpleImputer(strategy='median')\n",
    "> * SimpleImputer(strategy='constant', fill_value=99)"
   ]
  },
  {
   "cell_type": "markdown",
   "metadata": {},
   "source": [
    "#### Cabin"
   ]
  },
  {
   "cell_type": "markdown",
   "metadata": {},
   "source": [
    "<img src=\"images/titanic_design.jpg\" width=\"500\">"
   ]
  },
  {
   "cell_type": "code",
   "execution_count": 137,
   "metadata": {},
   "outputs": [
    {
     "data": {
      "text/plain": [
       "1014"
      ]
     },
     "execution_count": 137,
     "metadata": {},
     "output_type": "execute_result"
    }
   ],
   "source": [
    "df['cabin'].isnull().sum()"
   ]
  },
  {
   "cell_type": "markdown",
   "metadata": {},
   "source": [
    "É difícil imaginar porque a informação do número da cabine está ausente para 1014 passageiros.\n",
    "\n",
    "A localização da cabine poderá influenciar se o passageiro sobreviveu ou não (vide imagem acima do Titanic).  \n",
    "Ou seja, teoricamente, é um atributo útil para o modelo.\n",
    "\n",
    "Para analisar, cria-se uma nova coluna no dataframe do tipo booleana.  \n",
    "O conteúdo será true ou false, conforme o passageiro tenha ou não cabine."
   ]
  },
  {
   "cell_type": "code",
   "execution_count": 138,
   "metadata": {},
   "outputs": [
    {
     "data": {
      "text/plain": [
       "False    1014\n",
       "True      295\n",
       "Name: with_cabin, dtype: int64"
      ]
     },
     "execution_count": 138,
     "metadata": {},
     "output_type": "execute_result"
    }
   ],
   "source": [
    "df['with_cabin'] = df['cabin'].notnull()\n",
    "df['with_cabin'].value_counts()"
   ]
  },
  {
   "cell_type": "markdown",
   "metadata": {},
   "source": [
    "Será que realmente quem não tinha cabine teve menor chance de sobreviver?  \n",
    "Pode-se agrupar o dataframe pelos 2 atributos (\"with_cabin\" e \"survived\") e ver os quantitativos."
   ]
  },
  {
   "cell_type": "code",
   "execution_count": 139,
   "metadata": {},
   "outputs": [
    {
     "data": {
      "text/plain": [
       "with_cabin  survived\n",
       "False       0           707\n",
       "            1           307\n",
       "True        0           102\n",
       "            1           193\n",
       "Name: with_cabin, dtype: int64"
      ]
     },
     "execution_count": 139,
     "metadata": {},
     "output_type": "execute_result"
    }
   ],
   "source": [
    "# Retorna uma series multiindex com os totais agrupados pelas 2 colunas\n",
    "group = df.groupby(['with_cabin', 'survived'])['with_cabin'].count()\n",
    "group"
   ]
  },
  {
   "cell_type": "markdown",
   "metadata": {},
   "source": [
    "Vê-se que, dos 295 que tinham cabine, 193 sobreviveram.  \n",
    "Logo, não foram tão superiores (193/295 = 65%).\n",
    "\n",
    "Já dos passageiros que não tinham cabine, é difícil afirmar algo.   \n",
    "Não sabemos se não tinham mesmo, ou se simplesmente os dados não foram preenchidos."
   ]
  },
  {
   "cell_type": "markdown",
   "metadata": {},
   "source": [
    "<img src=\"images/icons8-gráfico-de-barras-96.png\" width=\"60\">"
   ]
  },
  {
   "cell_type": "markdown",
   "metadata": {},
   "source": [
    "É bom observar isso visualmente.  \n",
    "A vantagem do gráfico é que ele facilita o ***insight*** sobre os dados, enquanto que os números exigem algum esforço de interpretação.\n",
    "\n",
    "Para colocar esses dados num gráfico de barras, primeiro transformamos o resultado da variável \"group\".  \n",
    "Como é uma série multindex, uma maneira é pivotear o segundo index (survived) para coluna.  \n",
    "Isso pode ser feito com o método **unstack()** do Pandas. Por default ele pivoteia o último level do index (-1):"
   ]
  },
  {
   "cell_type": "code",
   "execution_count": 140,
   "metadata": {},
   "outputs": [
    {
     "data": {
      "text/html": [
       "<div>\n",
       "<style scoped>\n",
       "    .dataframe tbody tr th:only-of-type {\n",
       "        vertical-align: middle;\n",
       "    }\n",
       "\n",
       "    .dataframe tbody tr th {\n",
       "        vertical-align: top;\n",
       "    }\n",
       "\n",
       "    .dataframe thead th {\n",
       "        text-align: right;\n",
       "    }\n",
       "</style>\n",
       "<table border=\"1\" class=\"dataframe\">\n",
       "  <thead>\n",
       "    <tr style=\"text-align: right;\">\n",
       "      <th>survived</th>\n",
       "      <th>0</th>\n",
       "      <th>1</th>\n",
       "    </tr>\n",
       "    <tr>\n",
       "      <th>with_cabin</th>\n",
       "      <th></th>\n",
       "      <th></th>\n",
       "    </tr>\n",
       "  </thead>\n",
       "  <tbody>\n",
       "    <tr>\n",
       "      <th>False</th>\n",
       "      <td>707</td>\n",
       "      <td>307</td>\n",
       "    </tr>\n",
       "    <tr>\n",
       "      <th>True</th>\n",
       "      <td>102</td>\n",
       "      <td>193</td>\n",
       "    </tr>\n",
       "  </tbody>\n",
       "</table>\n",
       "</div>"
      ],
      "text/plain": [
       "survived      0    1\n",
       "with_cabin          \n",
       "False       707  307\n",
       "True        102  193"
      ]
     },
     "execution_count": 140,
     "metadata": {},
     "output_type": "execute_result"
    }
   ],
   "source": [
    "# Pivoteia o último index (survived) para coluna\n",
    "survived_pivoted = group.unstack()\n",
    "survived_pivoted"
   ]
  },
  {
   "cell_type": "code",
   "execution_count": 141,
   "metadata": {},
   "outputs": [
    {
     "name": "stdout",
     "output_type": "stream",
     "text": [
      "<class 'pandas.core.frame.DataFrame'>\n",
      "Index: 2 entries, False to True\n",
      "Data columns (total 2 columns):\n",
      " #   Column  Non-Null Count  Dtype\n",
      "---  ------  --------------  -----\n",
      " 0   0       2 non-null      int64\n",
      " 1   1       2 non-null      int64\n",
      "dtypes: int64(2)\n",
      "memory usage: 48.0+ bytes\n"
     ]
    }
   ],
   "source": [
    "survived_pivoted.info()"
   ]
  },
  {
   "cell_type": "markdown",
   "metadata": {},
   "source": [
    "Agora pode ser aplicado no gráfico de barras."
   ]
  },
  {
   "cell_type": "code",
   "execution_count": 24,
   "metadata": {},
   "outputs": [
    {
     "data": {
      "image/png": "[encoded data removed]",
      "text/plain": [
       "<Figure size 432x288 with 1 Axes>"
      ]
     },
     "metadata": {
      "needs_background": "light"
     },
     "output_type": "display_data"
    }
   ],
   "source": [
    "survived_pivoted.plot.bar()\n",
    "plt.show()"
   ]
  },
  {
   "cell_type": "markdown",
   "metadata": {},
   "source": [
    "Há uma forma mais simples de gerar este dataframe agrupado e pivoteado.  \n",
    "Usando o \"**crosstab**\" do Pandas."
   ]
  },
  {
   "cell_type": "code",
   "execution_count": 25,
   "metadata": {},
   "outputs": [
    {
     "data": {
      "text/html": [
       "<div>\n",
       "<style scoped>\n",
       "    .dataframe tbody tr th:only-of-type {\n",
       "        vertical-align: middle;\n",
       "    }\n",
       "\n",
       "    .dataframe tbody tr th {\n",
       "        vertical-align: top;\n",
       "    }\n",
       "\n",
       "    .dataframe thead th {\n",
       "        text-align: right;\n",
       "    }\n",
       "</style>\n",
       "<table border=\"1\" class=\"dataframe\">\n",
       "  <thead>\n",
       "    <tr style=\"text-align: right;\">\n",
       "      <th>survived</th>\n",
       "      <th>0</th>\n",
       "      <th>1</th>\n",
       "    </tr>\n",
       "    <tr>\n",
       "      <th>with_cabin</th>\n",
       "      <th></th>\n",
       "      <th></th>\n",
       "    </tr>\n",
       "  </thead>\n",
       "  <tbody>\n",
       "    <tr>\n",
       "      <th>False</th>\n",
       "      <td>707</td>\n",
       "      <td>307</td>\n",
       "    </tr>\n",
       "    <tr>\n",
       "      <th>True</th>\n",
       "      <td>102</td>\n",
       "      <td>193</td>\n",
       "    </tr>\n",
       "  </tbody>\n",
       "</table>\n",
       "</div>"
      ],
      "text/plain": [
       "survived      0    1\n",
       "with_cabin          \n",
       "False       707  307\n",
       "True        102  193"
      ]
     },
     "execution_count": 25,
     "metadata": {},
     "output_type": "execute_result"
    }
   ],
   "source": [
    "crosstab = pd.crosstab(df['with_cabin'], df['survived'])\n",
    "crosstab"
   ]
  },
  {
   "cell_type": "markdown",
   "metadata": {},
   "source": [
    "O gráfico fica igual."
   ]
  },
  {
   "cell_type": "code",
   "execution_count": 26,
   "metadata": {},
   "outputs": [
    {
     "data": {
      "image/png": "[encoded data removed]",
      "text/plain": [
       "<Figure size 432x288 with 1 Axes>"
      ]
     },
     "metadata": {
      "needs_background": "light"
     },
     "output_type": "display_data"
    }
   ],
   "source": [
    "crosstab.plot.bar()\n",
    "plt.show()"
   ]
  },
  {
   "cell_type": "markdown",
   "metadata": {},
   "source": [
    "É possível colocar as barras empilhadas (**stacked**):"
   ]
  },
  {
   "cell_type": "code",
   "execution_count": 142,
   "metadata": {},
   "outputs": [
    {
     "data": {
      "image/png": "[encoded data removed]",
      "text/plain": [
       "<Figure size 432x288 with 1 Axes>"
      ]
     },
     "metadata": {
      "needs_background": "light"
     },
     "output_type": "display_data"
    }
   ],
   "source": [
    "crosstab.plot.bar(stacked=True)\n",
    "plt.show()"
   ]
  },
  {
   "cell_type": "markdown",
   "metadata": {},
   "source": [
    "E existe outra maneira ainda mais simples de mostrar este gráfico...  \n",
    "Usando o \"**countplot**\" da bibioteca **seaborn**."
   ]
  },
  {
   "cell_type": "code",
   "execution_count": 28,
   "metadata": {},
   "outputs": [],
   "source": [
    "import seaborn as sns"
   ]
  },
  {
   "cell_type": "code",
   "execution_count": 29,
   "metadata": {},
   "outputs": [
    {
     "data": {
      "image/png": "[encoded data removed]",
      "text/plain": [
       "<Figure size 432x288 with 1 Axes>"
      ]
     },
     "metadata": {
      "needs_background": "light"
     },
     "output_type": "display_data"
    }
   ],
   "source": [
    "sns.countplot(x='with_cabin', hue='survived', data=df)\n",
    "plt.show()"
   ]
  },
  {
   "cell_type": "markdown",
   "metadata": {},
   "source": [
    "Vemos que não há relação aparente entre possuir cabine e sobreviver.  \n",
    "Então como preencher os dados que faltam? "
   ]
  },
  {
   "cell_type": "markdown",
   "metadata": {},
   "source": [
    "<img src=\"images/icons8-balão-de-ar-quente-96.png\" width=\"70\">"
   ]
  },
  {
   "cell_type": "markdown",
   "metadata": {},
   "source": [
    "Durante a análise, é comum ficar totalmente focado em um atributo de cada vez.  \n",
    "Mas, de vez em quando, é importante se afastar do problema para recuperar a visão geral dos dados.\n",
    "\n",
    "Isso favorece os *insights* 💡"
   ]
  },
  {
   "cell_type": "markdown",
   "metadata": {},
   "source": [
    "Por exemplo...  \n",
    "Cada passageiro tem um ticket e todos estão preenchidos..."
   ]
  },
  {
   "cell_type": "code",
   "execution_count": 30,
   "metadata": {},
   "outputs": [
    {
     "data": {
      "text/plain": [
       "0"
      ]
     },
     "execution_count": 30,
     "metadata": {},
     "output_type": "execute_result"
    }
   ],
   "source": [
    "df['ticket'].isnull().sum()"
   ]
  },
  {
   "cell_type": "code",
   "execution_count": 31,
   "metadata": {},
   "outputs": [
    {
     "data": {
      "text/plain": [
       "CA. 2343        11\n",
       "CA 2144          8\n",
       "1601             8\n",
       "PC 17608         7\n",
       "S.O.C. 14879     7\n",
       "                ..\n",
       "693              1\n",
       "315083           1\n",
       "F.C. 12998       1\n",
       "C.A. 5547        1\n",
       "PC 17318         1\n",
       "Name: ticket, Length: 939, dtype: int64"
      ]
     },
     "execution_count": 31,
     "metadata": {},
     "output_type": "execute_result"
    }
   ],
   "source": [
    "df['ticket'].value_counts()"
   ]
  },
  {
   "cell_type": "markdown",
   "metadata": {},
   "source": [
    "Alguns tickets estão repetidos.  \n",
    "Talvez sejam crianças que receberam o mesmo número do ticket dos seus pais.  \n",
    "Portanto, não é um problema."
   ]
  },
  {
   "cell_type": "markdown",
   "metadata": {},
   "source": [
    "<img src=\"images/icons8-dois-ingressos-96.png\" width=\"80\">"
   ]
  },
  {
   "cell_type": "markdown",
   "metadata": {},
   "source": [
    "Criamos um dataframe somente dos tickets com cabines informadas (sem duplicidades):"
   ]
  },
  {
   "cell_type": "code",
   "execution_count": 143,
   "metadata": {},
   "outputs": [
    {
     "data": {
      "text/html": [
       "<div>\n",
       "<style scoped>\n",
       "    .dataframe tbody tr th:only-of-type {\n",
       "        vertical-align: middle;\n",
       "    }\n",
       "\n",
       "    .dataframe tbody tr th {\n",
       "        vertical-align: top;\n",
       "    }\n",
       "\n",
       "    .dataframe thead th {\n",
       "        text-align: right;\n",
       "    }\n",
       "</style>\n",
       "<table border=\"1\" class=\"dataframe\">\n",
       "  <thead>\n",
       "    <tr style=\"text-align: right;\">\n",
       "      <th></th>\n",
       "      <th>ticket</th>\n",
       "      <th>cabin</th>\n",
       "    </tr>\n",
       "  </thead>\n",
       "  <tbody>\n",
       "    <tr>\n",
       "      <th>0</th>\n",
       "      <td>24160</td>\n",
       "      <td>B5</td>\n",
       "    </tr>\n",
       "    <tr>\n",
       "      <th>1</th>\n",
       "      <td>113781</td>\n",
       "      <td>C22 C26</td>\n",
       "    </tr>\n",
       "    <tr>\n",
       "      <th>5</th>\n",
       "      <td>19952</td>\n",
       "      <td>E12</td>\n",
       "    </tr>\n",
       "    <tr>\n",
       "      <th>6</th>\n",
       "      <td>13502</td>\n",
       "      <td>D7</td>\n",
       "    </tr>\n",
       "    <tr>\n",
       "      <th>7</th>\n",
       "      <td>112050</td>\n",
       "      <td>A36</td>\n",
       "    </tr>\n",
       "    <tr>\n",
       "      <th>...</th>\n",
       "      <td>...</td>\n",
       "      <td>...</td>\n",
       "    </tr>\n",
       "    <tr>\n",
       "      <th>1131</th>\n",
       "      <td>SOTON/O.Q. 392078</td>\n",
       "      <td>E10</td>\n",
       "    </tr>\n",
       "    <tr>\n",
       "      <th>1187</th>\n",
       "      <td>PP 9549</td>\n",
       "      <td>G6</td>\n",
       "    </tr>\n",
       "    <tr>\n",
       "      <th>1217</th>\n",
       "      <td>348124</td>\n",
       "      <td>F G73</td>\n",
       "    </tr>\n",
       "    <tr>\n",
       "      <th>1230</th>\n",
       "      <td>347054</td>\n",
       "      <td>G6</td>\n",
       "    </tr>\n",
       "    <tr>\n",
       "      <th>1249</th>\n",
       "      <td>383121</td>\n",
       "      <td>F38</td>\n",
       "    </tr>\n",
       "  </tbody>\n",
       "</table>\n",
       "<p>183 rows × 2 columns</p>\n",
       "</div>"
      ],
      "text/plain": [
       "                 ticket    cabin\n",
       "0                 24160       B5\n",
       "1                113781  C22 C26\n",
       "5                 19952      E12\n",
       "6                 13502       D7\n",
       "7                112050      A36\n",
       "...                 ...      ...\n",
       "1131  SOTON/O.Q. 392078      E10\n",
       "1187            PP 9549       G6\n",
       "1217             348124    F G73\n",
       "1230             347054       G6\n",
       "1249             383121      F38\n",
       "\n",
       "[183 rows x 2 columns]"
      ]
     },
     "execution_count": 143,
     "metadata": {},
     "output_type": "execute_result"
    }
   ],
   "source": [
    "df_tkt_cab = df[df.cabin.notnull()][['ticket', 'cabin']].drop_duplicates(subset='ticket')\n",
    "df_tkt_cab"
   ]
  },
  {
   "cell_type": "markdown",
   "metadata": {},
   "source": [
    "Fazendo um join do dataframe principal com este...  \n",
    "podemos preencher alguns números de cabine ausentes!"
   ]
  },
  {
   "cell_type": "code",
   "execution_count": 144,
   "metadata": {},
   "outputs": [
    {
     "data": {
      "text/html": [
       "<div>\n",
       "<style scoped>\n",
       "    .dataframe tbody tr th:only-of-type {\n",
       "        vertical-align: middle;\n",
       "    }\n",
       "\n",
       "    .dataframe tbody tr th {\n",
       "        vertical-align: top;\n",
       "    }\n",
       "\n",
       "    .dataframe thead th {\n",
       "        text-align: right;\n",
       "    }\n",
       "</style>\n",
       "<table border=\"1\" class=\"dataframe\">\n",
       "  <thead>\n",
       "    <tr style=\"text-align: right;\">\n",
       "      <th></th>\n",
       "      <th>pclass</th>\n",
       "      <th>survived</th>\n",
       "      <th>name</th>\n",
       "      <th>sex</th>\n",
       "      <th>age</th>\n",
       "      <th>sibsp</th>\n",
       "      <th>parch</th>\n",
       "      <th>ticket</th>\n",
       "      <th>fare</th>\n",
       "      <th>cabin_x</th>\n",
       "      <th>embarked</th>\n",
       "      <th>home.dest</th>\n",
       "      <th>with_cabin</th>\n",
       "      <th>cabin_y</th>\n",
       "    </tr>\n",
       "  </thead>\n",
       "  <tbody>\n",
       "    <tr>\n",
       "      <th>0</th>\n",
       "      <td>1</td>\n",
       "      <td>1</td>\n",
       "      <td>Allen, Miss. Elisabeth Walton</td>\n",
       "      <td>female</td>\n",
       "      <td>29.0000</td>\n",
       "      <td>0</td>\n",
       "      <td>0</td>\n",
       "      <td>24160</td>\n",
       "      <td>211.3375</td>\n",
       "      <td>B5</td>\n",
       "      <td>S</td>\n",
       "      <td>St Louis, MO</td>\n",
       "      <td>True</td>\n",
       "      <td>B5</td>\n",
       "    </tr>\n",
       "    <tr>\n",
       "      <th>1</th>\n",
       "      <td>1</td>\n",
       "      <td>1</td>\n",
       "      <td>Allison, Master. Hudson Trevor</td>\n",
       "      <td>male</td>\n",
       "      <td>0.9167</td>\n",
       "      <td>1</td>\n",
       "      <td>2</td>\n",
       "      <td>113781</td>\n",
       "      <td>151.5500</td>\n",
       "      <td>C22 C26</td>\n",
       "      <td>S</td>\n",
       "      <td>Montreal, PQ / Chesterville, ON</td>\n",
       "      <td>True</td>\n",
       "      <td>C22 C26</td>\n",
       "    </tr>\n",
       "    <tr>\n",
       "      <th>2</th>\n",
       "      <td>1</td>\n",
       "      <td>0</td>\n",
       "      <td>Allison, Miss. Helen Loraine</td>\n",
       "      <td>female</td>\n",
       "      <td>2.0000</td>\n",
       "      <td>1</td>\n",
       "      <td>2</td>\n",
       "      <td>113781</td>\n",
       "      <td>151.5500</td>\n",
       "      <td>C22 C26</td>\n",
       "      <td>S</td>\n",
       "      <td>Montreal, PQ / Chesterville, ON</td>\n",
       "      <td>True</td>\n",
       "      <td>C22 C26</td>\n",
       "    </tr>\n",
       "    <tr>\n",
       "      <th>3</th>\n",
       "      <td>1</td>\n",
       "      <td>0</td>\n",
       "      <td>Allison, Mr. Hudson Joshua Creighton</td>\n",
       "      <td>male</td>\n",
       "      <td>30.0000</td>\n",
       "      <td>1</td>\n",
       "      <td>2</td>\n",
       "      <td>113781</td>\n",
       "      <td>151.5500</td>\n",
       "      <td>C22 C26</td>\n",
       "      <td>S</td>\n",
       "      <td>Montreal, PQ / Chesterville, ON</td>\n",
       "      <td>True</td>\n",
       "      <td>C22 C26</td>\n",
       "    </tr>\n",
       "    <tr>\n",
       "      <th>4</th>\n",
       "      <td>1</td>\n",
       "      <td>0</td>\n",
       "      <td>Allison, Mrs. Hudson J C (Bessie Waldo Daniels)</td>\n",
       "      <td>female</td>\n",
       "      <td>25.0000</td>\n",
       "      <td>1</td>\n",
       "      <td>2</td>\n",
       "      <td>113781</td>\n",
       "      <td>151.5500</td>\n",
       "      <td>C22 C26</td>\n",
       "      <td>S</td>\n",
       "      <td>Montreal, PQ / Chesterville, ON</td>\n",
       "      <td>True</td>\n",
       "      <td>C22 C26</td>\n",
       "    </tr>\n",
       "  </tbody>\n",
       "</table>\n",
       "</div>"
      ],
      "text/plain": [
       "   pclass  survived                                             name     sex  \\\n",
       "0       1         1                    Allen, Miss. Elisabeth Walton  female   \n",
       "1       1         1                   Allison, Master. Hudson Trevor    male   \n",
       "2       1         0                     Allison, Miss. Helen Loraine  female   \n",
       "3       1         0             Allison, Mr. Hudson Joshua Creighton    male   \n",
       "4       1         0  Allison, Mrs. Hudson J C (Bessie Waldo Daniels)  female   \n",
       "\n",
       "       age  sibsp  parch  ticket      fare  cabin_x embarked  \\\n",
       "0  29.0000      0      0   24160  211.3375       B5        S   \n",
       "1   0.9167      1      2  113781  151.5500  C22 C26        S   \n",
       "2   2.0000      1      2  113781  151.5500  C22 C26        S   \n",
       "3  30.0000      1      2  113781  151.5500  C22 C26        S   \n",
       "4  25.0000      1      2  113781  151.5500  C22 C26        S   \n",
       "\n",
       "                         home.dest  with_cabin  cabin_y  \n",
       "0                     St Louis, MO        True       B5  \n",
       "1  Montreal, PQ / Chesterville, ON        True  C22 C26  \n",
       "2  Montreal, PQ / Chesterville, ON        True  C22 C26  \n",
       "3  Montreal, PQ / Chesterville, ON        True  C22 C26  \n",
       "4  Montreal, PQ / Chesterville, ON        True  C22 C26  "
      ]
     },
     "execution_count": 144,
     "metadata": {},
     "output_type": "execute_result"
    }
   ],
   "source": [
    "df_merge = df.merge(df_tkt_cab[['ticket', 'cabin']], how='left', on='ticket')\n",
    "df_merge.head()"
   ]
  },
  {
   "cell_type": "code",
   "execution_count": 145,
   "metadata": {},
   "outputs": [
    {
     "data": {
      "text/plain": [
       "(1309, 14)"
      ]
     },
     "execution_count": 145,
     "metadata": {},
     "output_type": "execute_result"
    }
   ],
   "source": [
    "df_merge.shape"
   ]
  },
  {
   "cell_type": "markdown",
   "metadata": {},
   "source": [
    "Comparando a quantidade atual de cabines ausentes com a nova, após o join (merge)."
   ]
  },
  {
   "cell_type": "code",
   "execution_count": 147,
   "metadata": {},
   "outputs": [
    {
     "name": "stdout",
     "output_type": "stream",
     "text": [
      "Antes: 1014\n",
      "Depois:  998\n"
     ]
    }
   ],
   "source": [
    "print(\"Antes:\", df['cabin'].isnull().sum())\n",
    "print(\"Depois: \", df_merge['cabin_y'].isnull().sum())"
   ]
  },
  {
   "cell_type": "markdown",
   "metadata": {},
   "source": [
    "Vemos que 16 cabines foram preenchidas.\n",
    "\n",
    "Passamos o resultado para o dataframe principal (df)."
   ]
  },
  {
   "cell_type": "code",
   "execution_count": 148,
   "metadata": {},
   "outputs": [
    {
     "data": {
      "text/plain": [
       "Index(['pclass', 'survived', 'name', 'sex', 'age', 'sibsp', 'parch', 'ticket',\n",
       "       'fare', 'embarked', 'home.dest', 'with_cabin', 'cabin'],\n",
       "      dtype='object')"
      ]
     },
     "execution_count": 148,
     "metadata": {},
     "output_type": "execute_result"
    }
   ],
   "source": [
    "df = df_merge.drop('cabin_x', axis=1).rename({'cabin_y': 'cabin'}, axis=1)\n",
    "df.columns"
   ]
  },
  {
   "cell_type": "markdown",
   "metadata": {},
   "source": [
    "<img src=\"images/icons8-pensamento-crítico-96.png\" width=\"70\">"
   ]
  },
  {
   "cell_type": "markdown",
   "metadata": {},
   "source": [
    "Mas ainda existem muitos dados ausentes de cabines."
   ]
  },
  {
   "cell_type": "code",
   "execution_count": 150,
   "metadata": {},
   "outputs": [
    {
     "data": {
      "text/plain": [
       "998"
      ]
     },
     "execution_count": 150,
     "metadata": {},
     "output_type": "execute_result"
    }
   ],
   "source": [
    "df['cabin'].isnull().sum()"
   ]
  },
  {
   "cell_type": "markdown",
   "metadata": {},
   "source": [
    "Como são os conteúdos das cabines preenchidas?"
   ]
  },
  {
   "cell_type": "code",
   "execution_count": 39,
   "metadata": {},
   "outputs": [
    {
     "data": {
      "text/plain": [
       "array(['B5', 'C22 C26', 'E12', 'D7', 'A36', 'C101', nan, 'C62 C64', 'B35',\n",
       "       'C46', 'A23', 'B58 B60', 'D15', 'C6', 'D35', 'C148', 'C97', 'B49',\n",
       "       'C99', 'C52', 'T', 'A31', 'C7', 'C103', 'D22', 'B61', 'E33', 'A21',\n",
       "       'B10', 'B4', 'E40', 'B38', 'E24', 'B51 B53 B55', 'B96 B98', 'E31',\n",
       "       'E8', 'B77', 'A9', 'C89', 'A14', 'E58', 'E49', 'B22', 'B26', 'C85',\n",
       "       'E17', 'B71', 'B20', 'A34', 'C86', 'A16', 'A20', 'A18', 'C54',\n",
       "       'D20', 'A29', 'C68', 'E25', 'C111', 'C23 C25 C27', 'D34', 'D40',\n",
       "       'B39', 'B41', 'B102', 'C123', 'E63', 'C130', 'B86', 'C92', 'A5',\n",
       "       'C51', 'B42', 'C91', 'D10 D12', 'E50', 'D33', 'C83', 'B94', 'D45',\n",
       "       'B69', 'B11', 'E46', 'C39', 'B18', 'D11', 'C93', 'B28', 'C49',\n",
       "       'E60', 'B37', 'D21', 'D19', 'C124', 'D17', 'D28', 'D6', 'B80',\n",
       "       'C106', 'B79', 'C47', 'D30', 'C90', 'E38', 'C78', 'C30', 'C118',\n",
       "       'D36', 'D47', 'C105', 'B36', 'D43', 'C2', 'C104', 'C110', 'A24',\n",
       "       'A32', 'A11', 'A10', 'E44', 'A26', 'A6', 'A7', 'C31', 'A19', 'B45',\n",
       "       'E34', 'B50', 'C87', 'C116', 'D50', 'E68', 'C126', 'C53', 'B19',\n",
       "       'D46', 'D37', 'D26', 'C128', 'D', 'F4', 'D56', 'F33', 'E101',\n",
       "       'E77', 'F2', 'D38', 'F', 'F G63', 'F E57', 'F E46', 'F G73',\n",
       "       'E121', 'F E69', 'E10', 'G6', 'F38'], dtype=object)"
      ]
     },
     "execution_count": 39,
     "metadata": {},
     "output_type": "execute_result"
    }
   ],
   "source": [
    "df['cabin'].unique()"
   ]
  },
  {
   "cell_type": "markdown",
   "metadata": {},
   "source": [
    "O número da cabine é composto por um prefixo de uma letra seguido de um número."
   ]
  },
  {
   "cell_type": "code",
   "execution_count": 40,
   "metadata": {},
   "outputs": [
    {
     "data": {
      "text/plain": [
       "NaN            998\n",
       "B61              7\n",
       "C23 C25 C27      6\n",
       "C22 C26          6\n",
       "C78              5\n",
       "              ... \n",
       "B4               1\n",
       "B19              1\n",
       "A36              1\n",
       "F E57            1\n",
       "T                1\n",
       "Name: cabin, Length: 158, dtype: int64"
      ]
     },
     "execution_count": 40,
     "metadata": {},
     "output_type": "execute_result"
    }
   ],
   "source": [
    "df['cabin'].value_counts(dropna=False)"
   ]
  },
  {
   "cell_type": "code",
   "execution_count": 41,
   "metadata": {},
   "outputs": [
    {
     "data": {
      "text/plain": [
       "NaN    998\n",
       "C      104\n",
       "B       68\n",
       "D       46\n",
       "E       41\n",
       "F       23\n",
       "A       23\n",
       "G        5\n",
       "T        1\n",
       "Name: cabin, dtype: int64"
      ]
     },
     "execution_count": 41,
     "metadata": {},
     "output_type": "execute_result"
    }
   ],
   "source": [
    "df['cabin'].str[0].value_counts(dropna=False)"
   ]
  },
  {
   "cell_type": "markdown",
   "metadata": {},
   "source": [
    "Uma ideia 💡   \n",
    "Se essas letras representam uma espécie de categoria da cabine, podem estar relacionadas com outros dados.\n",
    "\n",
    "Por exemplo, o atributo \"**pclass**\" indica a classe de viagem do passageiro.  "
   ]
  },
  {
   "cell_type": "code",
   "execution_count": 152,
   "metadata": {},
   "outputs": [
    {
     "data": {
      "text/plain": [
       "3    709\n",
       "1    323\n",
       "2    277\n",
       "Name: pclass, dtype: int64"
      ]
     },
     "execution_count": 152,
     "metadata": {},
     "output_type": "execute_result"
    }
   ],
   "source": [
    "df['pclass'].value_counts()"
   ]
  },
  {
   "cell_type": "markdown",
   "metadata": {},
   "source": [
    "\n",
    "São somente 3 valores distintos e todos preenchidos.  \n",
    "Será que existe alguma relação entre as categorias das cabines (1a letra) e as classes de viagem?  \n",
    "\n",
    "> **Obs:** Quando as variáveis são numéricas, é possível usar o método \"**corr()**\" do Pandas para obter as correlações entre elas."
   ]
  },
  {
   "cell_type": "markdown",
   "metadata": {},
   "source": [
    "Criamos uma nova coluna derivada para os prefixos das cabines.  \n",
    "Colocamos algum caracter nos valores nulos, no caso, um \"hífen\"."
   ]
  },
  {
   "cell_type": "code",
   "execution_count": 154,
   "metadata": {},
   "outputs": [
    {
     "data": {
      "text/plain": [
       "-    998\n",
       "C    104\n",
       "B     68\n",
       "D     46\n",
       "E     41\n",
       "F     23\n",
       "A     23\n",
       "G      5\n",
       "T      1\n",
       "Name: cabin_prefix, dtype: int64"
      ]
     },
     "execution_count": 154,
     "metadata": {},
     "output_type": "execute_result"
    }
   ],
   "source": [
    "df['cabin_prefix'] = df['cabin'].str[0].fillna('-')\n",
    "df['cabin_prefix'].value_counts()"
   ]
  },
  {
   "cell_type": "markdown",
   "metadata": {},
   "source": [
    "Agrupando por ambas as colunas (classe e categoria da cabine), calcula-se os totais para cada agrupamento."
   ]
  },
  {
   "cell_type": "code",
   "execution_count": 155,
   "metadata": {},
   "outputs": [
    {
     "data": {
      "text/plain": [
       "pclass  cabin_prefix\n",
       "1       -                54\n",
       "        A                23\n",
       "        B                68\n",
       "        C               104\n",
       "        D                40\n",
       "        E                33\n",
       "        T                 1\n",
       "2       -               253\n",
       "        D                 6\n",
       "        E                 5\n",
       "        F                13\n",
       "3       -               691\n",
       "        E                 3\n",
       "        F                10\n",
       "        G                 5\n",
       "Name: pclass, dtype: int64"
      ]
     },
     "execution_count": 155,
     "metadata": {},
     "output_type": "execute_result"
    }
   ],
   "source": [
    "df.groupby(['pclass', 'cabin_prefix'])['pclass'].count()"
   ]
  },
  {
   "cell_type": "markdown",
   "metadata": {},
   "source": [
    "Constatações e hipóteses a partir deste resultado:\n",
    "\n",
    "1. A maioria das cabines não preenchidas (691) são da 3a classe.  \n",
    "Parece indicar que os passageiros menos abastados não tinham direito a cabine, ou usavam uma cabine \"coletiva\".  \n",
    "Ou até que a informação não foi preenchida por não ser relevante para a administração do navio.  \n",
    " * 1a classe: total 323; cabines não informadas 54  (16,7%)\n",
    " * 2a classe: total 277; cabines não informadas 253 (91,3%)\n",
    " * 3a classe: total 709; cabines não informadas 691 (97,4%)\n",
    "\n",
    "\n",
    "2. As cabines tipo A, B e C são exclusivas da 1a classe.\n",
    "\n",
    "3. A 2a classe usa cabines tipo D, E e F, também usadas nas 1a e 3a classes.\n",
    "\n",
    "4. A cabine tipo G é exclusiva da 3a classe.\n",
    "\n",
    "5. A cabine tipo T é também exclusiva da 1a classe, porém só um passageiro informou estar nela."
   ]
  },
  {
   "cell_type": "markdown",
   "metadata": {},
   "source": [
    "<img src=\"images/icons8-habilidade-de-brainstorm-96.png\" width=\"80\">"
   ]
  },
  {
   "cell_type": "markdown",
   "metadata": {},
   "source": [
    "Mas será que existem cabines compartilhadas por passageiros de classes diferentes?"
   ]
  },
  {
   "cell_type": "code",
   "execution_count": 156,
   "metadata": {},
   "outputs": [
    {
     "data": {
      "text/html": [
       "<div>\n",
       "<style scoped>\n",
       "    .dataframe tbody tr th:only-of-type {\n",
       "        vertical-align: middle;\n",
       "    }\n",
       "\n",
       "    .dataframe tbody tr th {\n",
       "        vertical-align: top;\n",
       "    }\n",
       "\n",
       "    .dataframe thead th {\n",
       "        text-align: right;\n",
       "    }\n",
       "</style>\n",
       "<table border=\"1\" class=\"dataframe\">\n",
       "  <thead>\n",
       "    <tr style=\"text-align: right;\">\n",
       "      <th></th>\n",
       "      <th>pclass</th>\n",
       "      <th>cabin</th>\n",
       "    </tr>\n",
       "  </thead>\n",
       "  <tbody>\n",
       "    <tr>\n",
       "      <th>0</th>\n",
       "      <td>1</td>\n",
       "      <td>[B5, C22 C26, E12, D7, A36, C101, C62 C64, B35...</td>\n",
       "    </tr>\n",
       "    <tr>\n",
       "      <th>1</th>\n",
       "      <td>2</td>\n",
       "      <td>[D, F4, D56, F33, E101, E77, F2, D38, F]</td>\n",
       "    </tr>\n",
       "    <tr>\n",
       "      <th>2</th>\n",
       "      <td>3</td>\n",
       "      <td>[F G63, F E57, F E46, F G73, E121, F E69, E10,...</td>\n",
       "    </tr>\n",
       "  </tbody>\n",
       "</table>\n",
       "</div>"
      ],
      "text/plain": [
       "   pclass                                              cabin\n",
       "0       1  [B5, C22 C26, E12, D7, A36, C101, C62 C64, B35...\n",
       "1       2           [D, F4, D56, F33, E101, E77, F2, D38, F]\n",
       "2       3  [F G63, F E57, F E46, F G73, E121, F E69, E10,..."
      ]
     },
     "execution_count": 156,
     "metadata": {},
     "output_type": "execute_result"
    }
   ],
   "source": [
    "# Gera uma lista de cabines para cada classe\n",
    "pc = (df[df['cabin'].notnull()]\n",
    "        .groupby('pclass')['cabin']\n",
    "        .unique()\n",
    "        .reset_index())\n",
    "pc"
   ]
  },
  {
   "cell_type": "code",
   "execution_count": 157,
   "metadata": {},
   "outputs": [],
   "source": [
    "# Separa as listas\n",
    "pc_1 = list(pc.loc[0, 'cabin'])\n",
    "pc_2 = list(pc.loc[1, 'cabin'])\n",
    "pc_3 = list(pc.loc[2, 'cabin'])"
   ]
  },
  {
   "cell_type": "code",
   "execution_count": 158,
   "metadata": {},
   "outputs": [
    {
     "name": "stdout",
     "output_type": "stream",
     "text": [
      "set()\n",
      "set()\n",
      "set()\n"
     ]
    }
   ],
   "source": [
    "# Retorna os elementos comuns (cabines) entre os conjuntos, se houverem.\n",
    "print(set(pc_1) & set(pc_2))\n",
    "print(set(pc_1) & set(pc_3))\n",
    "print(set(pc_2) & set(pc_3))"
   ]
  },
  {
   "cell_type": "markdown",
   "metadata": {},
   "source": [
    "Nenhuma cabine em comum entre as classes!\n",
    "\n",
    "Então, para preencher as cabines ausentes, basta escolher cabines aleatórias dentre as que estão ocupadas pelos passageiros da mesma classe."
   ]
  },
  {
   "cell_type": "code",
   "execution_count": 159,
   "metadata": {},
   "outputs": [],
   "source": [
    "import random"
   ]
  },
  {
   "cell_type": "code",
   "execution_count": 160,
   "metadata": {},
   "outputs": [
    {
     "data": {
      "text/plain": [
       "0"
      ]
     },
     "execution_count": 160,
     "metadata": {},
     "output_type": "execute_result"
    }
   ],
   "source": [
    "# Preenche cabines nulas da classe 1\n",
    "mask = (df['pclass'] == 1) & (df['cabin'].isnull())\n",
    "df.loc[mask, 'cabin'] = df.loc[mask, 'cabin'].apply(lambda x: random.choice(pc_1))\n",
    "df[df['pclass'] == 1]['cabin'].isnull().sum()"
   ]
  },
  {
   "cell_type": "code",
   "execution_count": 161,
   "metadata": {},
   "outputs": [
    {
     "data": {
      "text/plain": [
       "0"
      ]
     },
     "execution_count": 161,
     "metadata": {},
     "output_type": "execute_result"
    }
   ],
   "source": [
    "# Preenche cabines nulas da classe 2\n",
    "mask = (df['pclass'] == 2) & (df['cabin'].isnull())\n",
    "df.loc[mask, 'cabin'] = df.loc[mask, 'cabin'].apply(lambda x: random.choice(pc_2))\n",
    "df[df['pclass'] == 2]['cabin'].isnull().sum()"
   ]
  },
  {
   "cell_type": "code",
   "execution_count": 162,
   "metadata": {},
   "outputs": [
    {
     "data": {
      "text/plain": [
       "0"
      ]
     },
     "execution_count": 162,
     "metadata": {},
     "output_type": "execute_result"
    }
   ],
   "source": [
    "# Preenche cabines nulas da classe 3\n",
    "mask = (df['pclass'] == 3) & (df['cabin'].isnull())\n",
    "df.loc[mask, 'cabin'] = df.loc[mask, 'cabin'].apply(lambda x: random.choice(pc_3))\n",
    "df[df['pclass'] == 3]['cabin'].isnull().sum()"
   ]
  },
  {
   "cell_type": "code",
   "execution_count": 163,
   "metadata": {},
   "outputs": [
    {
     "data": {
      "text/plain": [
       "0"
      ]
     },
     "execution_count": 163,
     "metadata": {},
     "output_type": "execute_result"
    }
   ],
   "source": [
    "df.cabin.isnull().sum()"
   ]
  },
  {
   "cell_type": "markdown",
   "metadata": {},
   "source": [
    "#### Embarked\n",
    "O atributo \"embarked\" informa o porto onde o passageiro embarcou (C = Cherbourg, Q = Queenstown, S = Southampton)."
   ]
  },
  {
   "cell_type": "code",
   "execution_count": 164,
   "metadata": {},
   "outputs": [
    {
     "data": {
      "text/plain": [
       "S    914\n",
       "C    270\n",
       "Q    123\n",
       "Name: embarked, dtype: int64"
      ]
     },
     "execution_count": 164,
     "metadata": {},
     "output_type": "execute_result"
    }
   ],
   "source": [
    "df['embarked'].value_counts()"
   ]
  },
  {
   "cell_type": "code",
   "execution_count": 165,
   "metadata": {},
   "outputs": [
    {
     "data": {
      "text/plain": [
       "2"
      ]
     },
     "execution_count": 165,
     "metadata": {},
     "output_type": "execute_result"
    }
   ],
   "source": [
    "df['embarked'].isnull().sum()"
   ]
  },
  {
   "cell_type": "markdown",
   "metadata": {},
   "source": [
    "Somente 2 ausentes.\n",
    "\n",
    "A princípio, o porto de embarque não parece influenciar na possibilidade de sobrevivência.  \n",
    "Conferimos isso graficamente:"
   ]
  },
  {
   "cell_type": "code",
   "execution_count": 166,
   "metadata": {},
   "outputs": [
    {
     "data": {
      "image/png": "[encoded data removed]",
      "text/plain": [
       "<Figure size 432x288 with 1 Axes>"
      ]
     },
     "metadata": {
      "needs_background": "light"
     },
     "output_type": "display_data"
    }
   ],
   "source": [
    "sns.countplot(x='embarked', hue='survived', data=df)\n",
    "plt.show()"
   ]
  },
  {
   "cell_type": "markdown",
   "metadata": {},
   "source": [
    "O percentual de sobrevivência é menor para os que embarcaram em Southampton, mas não parece uma regra.  \n",
    "Chamaria a atenção se, por exemplo, todos os embarcados num porto tivessem morrido ou sobrevivido.  \n",
    "Não é o caso.\n",
    "\n",
    "Portanto, podemos preencher os ausentes com quaisquer dos valores ('S', 'C', ou 'Q').  \n",
    "Vamos optar pelo **mais frequente** e usar novamente o SimpleImputer do scikit-learn."
   ]
  },
  {
   "cell_type": "code",
   "execution_count": 167,
   "metadata": {},
   "outputs": [
    {
     "data": {
      "text/plain": [
       "0"
      ]
     },
     "execution_count": 167,
     "metadata": {},
     "output_type": "execute_result"
    }
   ],
   "source": [
    "imp = SimpleImputer(strategy='most_frequent')\n",
    "df[['embarked']] = imp.fit_transform(df[['embarked']])\n",
    "df['embarked'].isnull().sum()"
   ]
  },
  {
   "cell_type": "markdown",
   "metadata": {},
   "source": [
    "<img src=\"images/icons8-navio-de-cruzeiro-96.png\" width=\"80\">"
   ]
  },
  {
   "cell_type": "markdown",
   "metadata": {},
   "source": [
    "#### Home.Dest\n",
    "O atributo \"home.dest\" informa as cidades natal e de destino.  \n",
    "> **Obs:** Não existe no dataset do Kaggle."
   ]
  },
  {
   "cell_type": "code",
   "execution_count": 168,
   "metadata": {},
   "outputs": [
    {
     "data": {
      "text/plain": [
       "sum     564.000000\n",
       "mean      0.430863\n",
       "Name: home.dest, dtype: float64"
      ]
     },
     "execution_count": 168,
     "metadata": {},
     "output_type": "execute_result"
    }
   ],
   "source": [
    "df['home.dest'].isnull().agg(['sum', 'mean'])"
   ]
  },
  {
   "cell_type": "markdown",
   "metadata": {},
   "source": [
    "São 43% de dados não preenchidos, um percentual significativo."
   ]
  },
  {
   "cell_type": "code",
   "execution_count": 169,
   "metadata": {},
   "outputs": [
    {
     "data": {
      "text/plain": [
       "New York, NY                    64\n",
       "London                          14\n",
       "Montreal, PQ                    10\n",
       "Cornwall / Akron, OH             9\n",
       "Paris, France                    9\n",
       "                                ..\n",
       "England New York, NY             1\n",
       "England Salt Lake City, Utah     1\n",
       "India / Rapid City, SD           1\n",
       "Pomeroy, WA                      1\n",
       "West Kensington, London          1\n",
       "Name: home.dest, Length: 369, dtype: int64"
      ]
     },
     "execution_count": 169,
     "metadata": {},
     "output_type": "execute_result"
    }
   ],
   "source": [
    "df['home.dest'].value_counts()"
   ]
  },
  {
   "cell_type": "markdown",
   "metadata": {},
   "source": [
    "Das cidades preenchidas, existem 369 combinações home/dest únicas, uma quantidade muito grande.\n",
    "\n",
    "Como, aparentemente, uma barra (/) divide a cidade \"home\" da cidade \"dest\", é possível separá-las."
   ]
  },
  {
   "cell_type": "code",
   "execution_count": 170,
   "metadata": {},
   "outputs": [
    {
     "data": {
      "text/plain": [
       "False    574\n",
       "NaN      564\n",
       "True     171\n",
       "Name: home.dest, dtype: int64"
      ]
     },
     "execution_count": 170,
     "metadata": {},
     "output_type": "execute_result"
    }
   ],
   "source": [
    "df['home.dest'].str.contains('/').value_counts(dropna=False)"
   ]
  },
  {
   "cell_type": "markdown",
   "metadata": {},
   "source": [
    "Com a parte antes da barra, sabemos quantas cidades natal distintas existem."
   ]
  },
  {
   "cell_type": "code",
   "execution_count": 177,
   "metadata": {},
   "outputs": [
    {
     "data": {
      "text/plain": [
       "Cornwall                  19\n",
       "London                    13\n",
       "Paris                      9\n",
       "England                    9\n",
       "New York, NY               7\n",
       "                          ..\n",
       "Ascot, Berkshire           1\n",
       "Liverpool, England         1\n",
       "Goteborg, Sweden           1\n",
       "Sittingbourne, England     1\n",
       "Guernsey, England          1\n",
       "Name: home.dest, Length: 66, dtype: int64"
      ]
     },
     "execution_count": 177,
     "metadata": {},
     "output_type": "execute_result"
    }
   ],
   "source": [
    "home = (df.loc[df['home.dest'].str.contains('/') == True, 'home.dest']\n",
    "        .str.split('/')\n",
    "        .apply(lambda d: d[0].strip())\n",
    "       )\n",
    "home.value_counts()"
   ]
  },
  {
   "cell_type": "markdown",
   "metadata": {},
   "source": [
    "E com a parte após a barra, quantas cidades destino."
   ]
  },
  {
   "cell_type": "code",
   "execution_count": 178,
   "metadata": {},
   "outputs": [
    {
     "data": {
      "text/plain": [
       "Akron, OH              11\n",
       "New York, NY           10\n",
       "Montreal, PQ            9\n",
       "Detroit, MI             6\n",
       "Cooperstown, NY         5\n",
       "                       ..\n",
       "Butte, MT               1\n",
       "Briarcliff Manor NY     1\n",
       "Belfast                 1\n",
       "Birmingham              1\n",
       "Hartford, CT            1\n",
       "Name: home.dest, Length: 76, dtype: int64"
      ]
     },
     "execution_count": 178,
     "metadata": {},
     "output_type": "execute_result"
    }
   ],
   "source": [
    "dest = (df.loc[df['home.dest'].str.contains('/') == True, 'home.dest']\n",
    "        .str.split('/')\n",
    "        .apply(lambda d: d[1].strip())\n",
    "     )\n",
    "dest.value_counts()"
   ]
  },
  {
   "cell_type": "markdown",
   "metadata": {},
   "source": [
    "Nenhuma das duas informações revelam algum *insight* sobre como preencher as lacunas.\n",
    "\n",
    "Então, neste caso, é mais prudente remover a variável do que preenchê-la sem confiança."
   ]
  },
  {
   "cell_type": "code",
   "execution_count": 181,
   "metadata": {},
   "outputs": [],
   "source": [
    "df.drop('home.dest', axis=1, inplace=True)"
   ]
  },
  {
   "cell_type": "code",
   "execution_count": 182,
   "metadata": {},
   "outputs": [
    {
     "data": {
      "text/plain": [
       "pclass          1309\n",
       "survived        1309\n",
       "name            1309\n",
       "sex             1309\n",
       "age             1309\n",
       "sibsp           1309\n",
       "parch           1309\n",
       "ticket          1309\n",
       "fare            1309\n",
       "embarked        1309\n",
       "with_cabin      1309\n",
       "cabin           1309\n",
       "cabin_prefix    1309\n",
       "dtype: int64"
      ]
     },
     "execution_count": 182,
     "metadata": {},
     "output_type": "execute_result"
    }
   ],
   "source": [
    "df.notnull().sum()"
   ]
  },
  {
   "cell_type": "markdown",
   "metadata": {},
   "source": [
    "Pronto, não há mais dados ausentes no dataframe!"
   ]
  },
  {
   "cell_type": "markdown",
   "metadata": {},
   "source": [
    "<img src=\"images/icons8-selecionado-96.png\" width=\"70\">"
   ]
  },
  {
   "cell_type": "markdown",
   "metadata": {},
   "source": [
    "## Dez mandamentos"
   ]
  },
  {
   "cell_type": "markdown",
   "metadata": {},
   "source": [
    "Ao final deste episódio, Learnison constatou que lidar com dados ausentes pode ser mais difícil do que se imagina.  \n",
    "Existem muitas situações diferentes, assim como soluções específicas para cada caso.\n",
    "\n",
    "Se as soluções foram as mais adequadas ou não, poderá descobrir só na etapa de construção do modelo.  \n",
    "Mas, seja qual for o sucesso da modelagem, os seguintes \"mandamentos\" são uma boa referência."
   ]
  },
  {
   "cell_type": "markdown",
   "metadata": {},
   "source": [
    "1. ✅ Antes de qualquer coisa, conferir se os dados estão realmente ausentes.\n",
    "    * Verificar se não houve perda de dados durante a transferência ou cópia do dataset.\n",
    "    * Se o dataset passou por algum intermediário, checar também na origem.\n",
    "    * Se veio de um banco de dados, consultar diretamente lá.\n",
    "    * Averiguar se são dados pessoais ou sigilosos, protegidos por alguma lei ou questão ética."
   ]
  },
  {
   "cell_type": "markdown",
   "metadata": {},
   "source": [
    "2. 🚩 Resistir à tentação inicial de simplesmente remover as linhas e/ou colunas com lacunas de dados."
   ]
  },
  {
   "cell_type": "markdown",
   "metadata": {},
   "source": [
    "3. 👓 Reler, reler e reler as descrições dos atributos.  \n",
    "Se houver dúvida, por menor que seja, consultar outras fontes até ter certeza do que se trata.  \n",
    "Uma variável de aparência \"inofensiva\" poderá fazer muita falta posteriormente para o modelo."
   ]
  },
  {
   "cell_type": "markdown",
   "metadata": {},
   "source": [
    "4. 💦 Dispensar os atributos do tipo \"vazamento\" (*leaky features*) porque são resultados e, portanto, não servem como preditores."
   ]
  },
  {
   "cell_type": "markdown",
   "metadata": {},
   "source": [
    "5. ✏️ Para cada atributo, verificar as quantidades de lacunas, tanto em números absolutos quanto percentuais.  \n",
    "Preparar-se para investir maior esforço nos atributos com maior percentual de ausências."
   ]
  },
  {
   "cell_type": "markdown",
   "metadata": {},
   "source": [
    "6. ✂️ Remover os dados ausentes, linhas ou colunas, conscientemente.  Ou seja, sabendo que:\n",
    "    * não são importantes para o modelo, ou\n",
    "    * são impraticáveis ou impossíveis de preencher de alguma maneira."
   ]
  },
  {
   "cell_type": "markdown",
   "metadata": {},
   "source": [
    "7. 🔍 Desvendar padrões de conteúdo nos atributos que possuem dados ausentes:\n",
    "    * visualizar a distribuição com histogramas,\n",
    "    * visualizar a densidade e esparsidade das lacunas por gráfico do tipo \"matrix\",\n",
    "    * verificar a correlação com outros atributos e com o atributo-alvo:\n",
    "        * considerando o conteúdo original,\n",
    "        * considerando o conteúdo tratado (substring, split, lower/upper case, etc),\n",
    "        * considerando o conteúdo derivado (function, expression, etc)."
   ]
  },
  {
   "cell_type": "markdown",
   "metadata": {},
   "source": [
    "8. 💡 Insistir na observações de padrões e análise exploratória de forma que propicie:\n",
    "    * melhor entendimento dos dados;\n",
    "    * surgimento de ***insights*** que serão úteis tanto para o preenchimento das lacunas quanto para a posterior modelagem."
   ]
  },
  {
   "cell_type": "markdown",
   "metadata": {},
   "source": [
    "9. 🔮 Ao preencher os dados ausentes, resistir à tentação inicial de simplesmente atribuir um valor fixo.  \n",
    "Considerar os diversos métodos possíveis:\n",
    "    * se numérico: média, mediana, moda, etc.\n",
    "    * se textual: mais frequente, dado tratado ou derivado de outros atributos ou de outro dataset,\n",
    "    * se temporal: data ou hora derivadas de outros atributos ou de outro dataset."
   ]
  },
  {
   "cell_type": "markdown",
   "metadata": {},
   "source": [
    "10. 👽 E antes de comemorar o preenchimento (ou remoção) de todas as lacunas nos dados, é bom lembrar que existem dados \"ausentes\" disfarçados. Exemplos:\n",
    "        * valores fora do escopo esperado (ex: negativos onde se esperam positivos)\n",
    "        * textos com conteúdo do tipo: \"Não Informado\", \"Não se Aplica\", \"Desconhecido\", etc.\n",
    "        * datas fictícias ou fora do escopo esperado (ex: 1900-01-01, 2010-00-00, 9999-09-09, etc.)"
   ]
  }
 ],
 "metadata": {
  "kernelspec": {
   "display_name": "Python 3 (ipykernel)",
   "language": "python",
   "name": "python3"
  },
  "language_info": {
   "codemirror_mode": {
    "name": "ipython",
    "version": 3
   },
   "file_extension": ".py",
   "mimetype": "text/x-python",
   "name": "python",
   "nbconvert_exporter": "python",
   "pygments_lexer": "ipython3",
   "version": "3.8.12"
  },
  "toc-autonumbering": false,
  "toc-showcode": false,
  "toc-showmarkdowntxt": false
 },
 "nbformat": 4,
 "nbformat_minor": 4
}
