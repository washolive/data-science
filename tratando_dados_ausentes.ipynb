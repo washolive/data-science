{
 "cells": [
  {
   "cell_type": "markdown",
   "metadata": {},
   "source": [
    "# Tratando dados ausentes"
   ]
  },
  {
   "cell_type": "markdown",
   "metadata": {},
   "source": [
    "Normalmente é muito empolgante começar uma nova modelagem de machine learning \\o/\n",
    "\n",
    "Mas quando descobrimos que nosso principal dataset tem um monte de dados faltando, bate uma certa preocupação... \\\n",
    "São os temidos **\"missing data\"** ou **\"missing values\"**."
   ]
  },
  {
   "cell_type": "markdown",
   "metadata": {},
   "source": [
    "<img src=\"dados_ausentes_learnison.jpg\" align=\"left\" width=\"200\">\n",
    "Nosso amigo Learnison está passando exatamente por isso: <br>\n",
    "─ O que farei com esses buracos nos dados? \n",
    "<br><br>\n",
    "Sua primeira vontade foi de simplesmente remover todas as linhas e colunas com dados ausentes.<br> \n",
    "Mas depois reconsiderou: <br>\n",
    "─ Acho que estou sendo radical... Talvez a melhor solução seja preencher esses buracos com algum valor default. <br><br>\n",
    "\n",
    "Uma angústia, entretanto, continuou o incomodando em background: <br>\n",
    "─ De que forma isso poderá comprometer a qualidade do meu modelo?"
   ]
  },
  {
   "cell_type": "markdown",
   "metadata": {},
   "source": [
    "Então ele respirou fundo, meditou um pouco e decidiu abordar o problema com a mente \"zen\" agitação..."
   ]
  },
  {
   "cell_type": "markdown",
   "metadata": {},
   "source": [
    "## Será mesmo?\n",
    "Sua primeira ação foi confirmar se o dataset foi baixado corretamente da origem. \\\n",
    "Pode parecer uma atitude ingênua, mas **uma simples verificação** pode evitar muitas horas de dor de cabeça infrutíferas.\n",
    "* Conferir se o arquivo não se corrompeu durante a transferência.\n",
    "* Se o arquivo não for grande, pode baixar novamente e comparar.\n",
    "* Se o dataset veio de um banco de dados, consultar diretamente o banco e verificar se os dados também estão ausentes lá."
   ]
  },
  {
   "cell_type": "markdown",
   "metadata": {},
   "source": [
    "## Sim :/\n",
    "Porém, existe a indesejada possibilidade de os **dados estarem realmente ausentes** (o que neste caso ocorreu). \\\n",
    "Learnison, então, foi em frente: \\\n",
    "─ Vou carregar os dados num dataframe Pandas para conhecer a estrutura e o conteúdo deste dataset."
   ]
  },
  {
   "cell_type": "markdown",
   "metadata": {},
   "source": [
    "---\n",
    "\n",
    "> **OBS:** Por motivos pessoais, Learnison não permitiu usarmos o seu dataset de *poderes mágicos*. Por isso, usaremos o popular dataset do naufrágio do Titanic disponível no Kaggle.\n",
    "\n",
    "---"
   ]
  },
  {
   "cell_type": "markdown",
   "metadata": {},
   "source": [
    "## Desvendando os dados\n",
    "\n",
    "No site do Kaggle, o dataset está dividido em arquivos separados (treino e teste), prontos para uso na machine learning. \\\n",
    "Mas o arquivo único pode ser baixado da seguinte URL: \\\n",
    "https://hbiostat.org/data/repo/titanic3.xls\n",
    "\n",
    "E para as descrições dos atributos, consultar o Kaggle mesmo: \\\n",
    "https://www.kaggle.com/c/titanic/data"
   ]
  },
  {
   "cell_type": "code",
   "execution_count": 4,
   "metadata": {},
   "outputs": [],
   "source": [
    "import pandas as pd"
   ]
  },
  {
   "cell_type": "code",
   "execution_count": 5,
   "metadata": {},
   "outputs": [],
   "source": [
    "url = \"https://hbiostat.org/data/repo/titanic3.xls\"\n",
    "df = pd.read_excel(url)"
   ]
  },
  {
   "cell_type": "markdown",
   "metadata": {},
   "source": [
    "### Visão geral\n",
    "Quando carregamos um dataset novo, não temos a mínima ideia de sua estrutura e conteúdo. \\\n",
    "Podem haver 100 linhas assim como 100 milhões. \\\n",
    "Podem ter 10 atributos assim como 500. Tudo é possível... \\\n",
    "No máximo, podemos imaginar o volume dos dados pelo tempo que demoram para carregar no dataframe Pandas."
   ]
  }
 ],
 "metadata": {
  "kernelspec": {
   "display_name": "Python 3",
   "language": "python",
   "name": "python3"
  },
  "language_info": {
   "codemirror_mode": {
    "name": "ipython",
    "version": 3
   },
   "file_extension": ".py",
   "mimetype": "text/x-python",
   "name": "python",
   "nbconvert_exporter": "python",
   "pygments_lexer": "ipython3",
   "version": "3.8.2"
  }
 },
 "nbformat": 4,
 "nbformat_minor": 4
}
